{
 "cells": [
  {
   "cell_type": "code",
   "execution_count": null,
   "metadata": {},
   "outputs": [],
   "source": [
    "%matplotlib inline\n",
    "from matplotlib import style\n",
    "style.use('fivethirtyeight')\n",
    "import matplotlib.pyplot as plt"
   ]
  },
  {
   "cell_type": "code",
   "execution_count": null,
   "metadata": {},
   "outputs": [],
   "source": [
    "import numpy as np\n",
    "import pandas as pd\n",
    "import datetime as dt"
   ]
  },
  {
   "cell_type": "markdown",
   "metadata": {},
   "source": [
    "# Reflect Tables into SQLAlchemy ORM"
   ]
  },
  {
   "cell_type": "code",
   "execution_count": null,
   "metadata": {},
   "outputs": [],
   "source": [
    "# Python SQL toolkit and Object Relational Mapper\n",
    "import sqlalchemy\n",
    "from sqlalchemy.ext.automap import automap_base\n",
    "from sqlalchemy.orm import Session\n",
    "from sqlalchemy import create_engine, func, inspect"
   ]
  },
  {
   "cell_type": "code",
   "execution_count": null,
   "metadata": {},
   "outputs": [],
   "source": [
    "# create engine to hawaii.sqlite\n",
    "engine = create_engine(\"sqlite:///Resources/hawaii.sqlite\")"
   ]
  },
  {
   "cell_type": "code",
   "execution_count": null,
   "metadata": {},
   "outputs": [],
   "source": [
    "# reflect an existing database into a new model\n",
    "Base = automap_base()\n",
    "# reflect the tables\n",
    "Base.prepare(engine, reflect=True)"
   ]
  },
  {
   "cell_type": "code",
   "execution_count": null,
   "metadata": {},
   "outputs": [],
   "source": [
    "# View all of the classes that automap found\n",
    "Base.classes.keys()"
   ]
  },
  {
   "cell_type": "code",
   "execution_count": null,
   "metadata": {},
   "outputs": [],
   "source": [
    "# Save references to each table\n",
    "measurementsTable = Base.classes.measurement\n",
    "stationTable = Base.classes.station"
   ]
  },
  {
   "cell_type": "code",
   "execution_count": null,
   "metadata": {},
   "outputs": [],
   "source": [
    "# Create our session (link) from Python to the DB\n",
    "session = Session(engine)"
   ]
  },
  {
   "cell_type": "markdown",
   "metadata": {},
   "source": [
    "# Exploratory Precipitation Analysis"
   ]
  },
  {
   "cell_type": "code",
   "execution_count": null,
   "metadata": {},
   "outputs": [],
   "source": [
    "# Find the most recent date in the data set.\n",
    "#most_recent = session.query(\"select top 1 * from station order by date desc \")\n",
    "most_recent = session.query(func.max(measurementsTable.date)).first()\n",
    "print(f'The most recent date was {most_recent}')"
   ]
  },
  {
   "cell_type": "code",
   "execution_count": null,
   "metadata": {},
   "outputs": [],
   "source": [
    "# Design a query to retrieve the last 12 months of precipitation data and plot the results. \n",
    "# Starting from the most recent data point in the database. \n",
    "# Calculate the date one year from the last date in data set.\n",
    "latest_date = dt.date(2017, 8, 23)\n",
    "last_year = latest_date - dt.timedelta(days = 365)\n",
    "lastTwelveMonths = session.query(measurementsTable).\\\n",
    "    filter(measurementsTable.date > last_year)\n",
    "print(lastTwelveMonths.count())\n",
    "\n",
    "\n",
    "# Perform a query to retrieve the data and precipitation scores\n",
    "precipitation_Array = []\n",
    "date_Array = []\n",
    "for measurement in lastTwelveMonths:\n",
    "    precipitation_Array.append(measurement.prcp)\n",
    "    date_Array.append(measurement.date)\n",
    "# Save the query results as a Pandas DataFrame and set the index to the date column\n",
    "precipFrame = pd.DataFrame({'Date': date_Array, 'Precipitation': precipitation_Array})\n",
    "# Sort the dataframe by date\n",
    "precipFrame.sort_values(by=['Date'], ascending=False)\n",
    "\n",
    "# Use Pandas Plotting with Matplotlib to plot the data\n",
    "precipFrame.plot(x='Date',y='Precipitation', rot=90)\n",
    "plt.xlabel(\"Date\")\n",
    "plt.ylabel(\"Precipitation, in Metric Inches\")\n",
    "plt.show()\n",
    "#I prefer Scatter"
   ]
  },
  {
   "cell_type": "code",
   "execution_count": null,
   "metadata": {},
   "outputs": [],
   "source": [
    "# Use Pandas to calcualte the summary statistics for the precipitation data\n",
    "precipFrame.describe()\n",
    "#here I was about to write out an analysis in human language."
   ]
  },
  {
   "cell_type": "markdown",
   "metadata": {},
   "source": [
    "# Exploratory Station Analysis"
   ]
  },
  {
   "cell_type": "code",
   "execution_count": null,
   "metadata": {},
   "outputs": [],
   "source": [
    "# Design a query to calculate the total number stations in the dataset\n",
    "# Using data from Automap step previously\n",
    "stations_total = session.query(measurementsTable).group_by(measurementsTable.station).count()\n",
    "print(f\"Total number of stations: {stations_total}\")"
   ]
  },
  {
   "cell_type": "code",
   "execution_count": null,
   "metadata": {},
   "outputs": [],
   "source": [
    "# Design a query to find the most active stations (i.e. what stations have the most rows?)\n",
    "# List the stations and the counts in descending order.\n",
    "active_stations = session.query(measurementsTable.station, func.count(measurementsTable.id))\n",
    "most_activestations = active_stations.group_by(measurementsTable.station).order_by(func.count(measurementsTable.id).desc()).all()\n",
    "most_activestations"
   ]
  },
  {
   "cell_type": "code",
   "execution_count": null,
   "metadata": {},
   "outputs": [],
   "source": [
    "# Using the most active station id from the previous query, calculate the lowest, highest, and average temperature.\n",
    "mostActive = session.query(measurementsTable.station).group_by(measurementsTable.station).order_by(func.count(measurementsTable.id).desc()).first()\n",
    "stationId = mostActive[0]\n",
    "lowest = (session.query(func.min(measurementsTable.tobs)).filter(measurementsTable.station == stationId).all())[0][0]\n",
    "highest = (session.query(func.max(measurementsTable.tobs)).filter(measurementsTable.station == stationId).all())[0][0]\n",
    "ave_temp = (session.query(func.avg(measurementsTable.tobs)).filter(measurementsTable.station == stationId).all())[0][0]\n",
    "print(f\"Most active station is {stationId} with a low of {lowest}, a high of {highest}, and an average across all recorded measurements of {ave_temp}\")"
   ]
  },
  {
   "cell_type": "code",
   "execution_count": null,
   "metadata": {},
   "outputs": [],
   "source": [
    "# Using the most active station id\n",
    "# Query the last 12 months of temperature observation data for this station and plot the results as a histogram\n",
    "topMeasurements = session.query(measurementsTable.tobs, measurementsTable.station).filter(measurementsTable.date >= last_year).filter(measurementsTable.station == stationId).all()\n",
    "\n",
    "# Save the query results as a Pandas DataFrame and set the index to the station column\n",
    "topStationdf = pd.DataFrame(topMeasurements)\n",
    "topStationdf.set_index('station', inplace=True)\n",
    "\n",
    "\n",
    "#Plot results as a histogram\n",
    "topStationdf.hist(bins = 16)\n",
    "plt.xlabel(\"Temperature\")\n",
    "plt.ylabel(\"Frequency\")\n",
    "plt.title(\"Frequency of Temperatures in Most Active Station\")\n",
    "plt.tight_layout()\n",
    "plt.show()\n"
   ]
  },
  {
   "cell_type": "markdown",
   "metadata": {},
   "source": [
    "# Close session"
   ]
  },
  {
   "cell_type": "code",
   "execution_count": null,
   "metadata": {},
   "outputs": [],
   "source": [
    "# Close Session\n",
    "session.close()\n",
    "#Goodnight!"
   ]
  },
  {
   "cell_type": "code",
   "execution_count": null,
   "metadata": {},
   "outputs": [],
   "source": []
  }
 ],
 "metadata": {
  "anaconda-cloud": {},
  "kernel_info": {
   "name": "python3"
  },
  "kernelspec": {
   "display_name": "Python 3",
   "language": "python",
   "name": "python3"
  },
  "language_info": {
   "codemirror_mode": {
    "name": "ipython",
    "version": 3
   },
   "file_extension": ".py",
   "mimetype": "text/x-python",
   "name": "python",
   "nbconvert_exporter": "python",
   "pygments_lexer": "ipython3",
   "version": "3.8.5"
  },
  "nteract": {
   "version": "0.12.3"
  },
  "varInspector": {
   "cols": {
    "lenName": 16,
    "lenType": 16,
    "lenVar": 40
   },
   "kernels_config": {
    "python": {
     "delete_cmd_postfix": "",
     "delete_cmd_prefix": "del ",
     "library": "var_list.py",
     "varRefreshCmd": "print(var_dic_list())"
    },
    "r": {
     "delete_cmd_postfix": ") ",
     "delete_cmd_prefix": "rm(",
     "library": "var_list.r",
     "varRefreshCmd": "cat(var_dic_list()) "
    }
   },
   "types_to_exclude": [
    "module",
    "function",
    "builtin_function_or_method",
    "instance",
    "_Feature"
   ],
   "window_display": false
  }
 },
 "nbformat": 4,
 "nbformat_minor": 2
}
